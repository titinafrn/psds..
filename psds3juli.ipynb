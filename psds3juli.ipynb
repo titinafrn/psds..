{
  "nbformat": 4,
  "nbformat_minor": 0,
  "metadata": {
    "colab": {
      "provenance": []
    },
    "kernelspec": {
      "name": "python3",
      "display_name": "Python 3"
    },
    "language_info": {
      "name": "python"
    }
  },
  "cells": [
    {
      "cell_type": "markdown",
      "source": [
        "**for loop**"
      ],
      "metadata": {
        "id": "S1lmn7aa8cmi"
      }
    },
    {
      "cell_type": "code",
      "execution_count": null,
      "metadata": {
        "colab": {
          "base_uri": "https://localhost:8080/"
        },
        "id": "loOWMDZY6RcB",
        "outputId": "b23cfd21-19b3-4168-bd1e-bdcbaeea54f7"
      },
      "outputs": [
        {
          "output_type": "stream",
          "name": "stdout",
          "text": [
            "27\n"
          ]
        }
      ],
      "source": [
        "# program untuk menghitung jumlah semua angka dalam list\n",
        "L1 = [2, 4, 5, 7, 9]\n",
        "jumlah = 0\n",
        "\n",
        "# iterasi didalam list\n",
        "for i in L1:\n",
        "  jumlah = jumlah + i\n",
        "\n",
        "print(jumlah)"
      ]
    },
    {
      "cell_type": "markdown",
      "source": [
        "**the range() function**"
      ],
      "metadata": {
        "id": "knj9VJB_8gWe"
      }
    },
    {
      "cell_type": "code",
      "source": [
        "# program untuk melakukan iterasi didalam list melalui indeks\n",
        "minuman = [\"teh\", \"boba\", \"kopi\", \"susu\"]\n",
        "p = len(minuman)\n",
        "\n",
        "# iterasi didalam list melalui indeks\n",
        "for i in range(p):\n",
        "  print(minuman[i])"
      ],
      "metadata": {
        "colab": {
          "base_uri": "https://localhost:8080/"
        },
        "id": "2wq0Sxr_-pgS",
        "outputId": "387fd04e-2241-4751-a393-dc5c0430534b"
      },
      "execution_count": null,
      "outputs": [
        {
          "output_type": "stream",
          "name": "stdout",
          "text": [
            "teh\n",
            "boba\n",
            "kopi\n",
            "susu\n"
          ]
        }
      ]
    },
    {
      "cell_type": "markdown",
      "source": [
        "**for loop with else**"
      ],
      "metadata": {
        "id": "2RxlVfOK5ks8"
      }
    },
    {
      "cell_type": "code",
      "source": [
        "# contoh for Loop manggunakan else\n",
        "for i in range(p):\n",
        "  print(minuman[i])\n",
        "else:\n",
        "  print(\"Elemen sudah habis\")"
      ],
      "metadata": {
        "colab": {
          "base_uri": "https://localhost:8080/"
        },
        "id": "MSQaBS_t-xRs",
        "outputId": "1e8fdf7b-b9c4-4a11-815d-25f3a2778ae9"
      },
      "execution_count": null,
      "outputs": [
        {
          "output_type": "stream",
          "name": "stdout",
          "text": [
            "teh\n",
            "boba\n",
            "kopi\n",
            "susu\n",
            "Elemen sudah habis\n"
          ]
        }
      ]
    },
    {
      "cell_type": "markdown",
      "source": [
        "**Latihan 1**\n",
        "\n",
        "Diberikan list_tagihan. kamu diminta untuk menghitung jumlah tagihan. gunakan looping for untuk menyelesaikan tugas ini!\n",
        "simpan hasilnya pada variabel total_tagihan!"
      ],
      "metadata": {
        "id": "6Y5ChwNS5ykt"
      }
    },
    {
      "cell_type": "code",
      "source": [
        "# For Loop\n",
        "tagihan  = [50000, 75000, -150000, 125000, 300000, -50000, 200000]\n",
        "total_tagihan = 0\n",
        "\n",
        " # iterasi didalam list\n",
        "for i in tagihan:\n",
        "   total_tagihan = total_tagihan + i\n",
        "\n",
        "print('total tagihan: ' ,total_tagihan)"
      ],
      "metadata": {
        "colab": {
          "base_uri": "https://localhost:8080/"
        },
        "id": "nBdPNk4k-0sO",
        "outputId": "9495efda-5a52-48ee-814e-2be15dbf8949"
      },
      "execution_count": null,
      "outputs": [
        {
          "output_type": "stream",
          "name": "stdout",
          "text": [
            "total tagihan:  550000\n"
          ]
        }
      ]
    },
    {
      "cell_type": "markdown",
      "source": [
        "**while loop in python**"
      ],
      "metadata": {
        "id": "mj6YZ9_c65Qq"
      }
    },
    {
      "cell_type": "code",
      "source": [
        "# Program untuk menjumlahkan semua\n",
        "# bilangan asli hingga suku ke-n\n",
        "# jum = 1+2+3+...+n\n",
        "\n",
        "n = 10\n",
        "jumlah = 0\n",
        "i = 1\n",
        "\n",
        "while i <=n:\n",
        "  jumlah = jumlah + i\n",
        "  i = i + 1\n",
        "\n",
        "print(jumlah)"
      ],
      "metadata": {
        "colab": {
          "base_uri": "https://localhost:8080/"
        },
        "id": "QbiCFNf84wDh",
        "outputId": "63f2a5e7-52cf-43b3-d17b-018ddb9bea9e"
      },
      "execution_count": null,
      "outputs": [
        {
          "output_type": "stream",
          "name": "stdout",
          "text": [
            "55\n"
          ]
        }
      ]
    },
    {
      "cell_type": "markdown",
      "source": [
        "**while loop with else**"
      ],
      "metadata": {
        "id": "tfQxFI7h6yqg"
      }
    },
    {
      "cell_type": "code",
      "source": [
        "jum = 0\n",
        "i = 1\n",
        "while i <= n:\n",
        "  jum = jum + i\n",
        "  i = i + 1\n",
        "else:\n",
        "  print(jum)"
      ],
      "metadata": {
        "colab": {
          "base_uri": "https://localhost:8080/"
        },
        "id": "7EnwUpCB4wk7",
        "outputId": "c76459b9-b653-4692-969c-5f5520b643c4"
      },
      "execution_count": null,
      "outputs": [
        {
          "output_type": "stream",
          "name": "stdout",
          "text": [
            "55\n"
          ]
        }
      ]
    },
    {
      "cell_type": "markdown",
      "source": [
        "**Latihan 2**\n",
        "\n",
        "diberikan list tagihan hitunglah total_tagihan menggunkan while loop."
      ],
      "metadata": {
        "id": "TMoPAeKU7DfW"
      }
    },
    {
      "cell_type": "code",
      "source": [
        "# while loop\n",
        "\n",
        "tagihan = [50000, 75000, 125000, 300000, 200000]\n",
        "\n",
        "i = 0\n",
        "jumlah_tagihan = len(tagihan)\n",
        "total_tagihan  = 0\n",
        "\n",
        "while i < jumlah_tagihan:\n",
        "  total_tagihan = total_tagihan + tagihan[i]\n",
        "  i = i + 1\n",
        "\n",
        "print(total_tagihan)"
      ],
      "metadata": {
        "colab": {
          "base_uri": "https://localhost:8080/"
        },
        "id": "brWZvC1y4yk_",
        "outputId": "4038603f-378a-46f7-b128-606fcbfef584"
      },
      "execution_count": null,
      "outputs": [
        {
          "output_type": "stream",
          "name": "stdout",
          "text": [
            "750000\n"
          ]
        }
      ]
    },
    {
      "cell_type": "markdown",
      "source": [
        "**pyhton IF statement**"
      ],
      "metadata": {
        "id": "OFUtAjTf7R4Q"
      }
    },
    {
      "cell_type": "code",
      "source": [
        "# Jika angka adalah bilangan positif maka print \"adalah bilangan positif\"\n",
        "\n",
        "angka = 3\n",
        "if angka > 0:\n",
        "  print(angka,\"adalah bilangan positif.\")\n",
        "print(\"pernyataan ini selalu ditampilkan.\")\n",
        "\n",
        "angka = -1\n",
        "if angka > 0:\n",
        "  print(angka,\"adalah bilangan positif\")\n",
        "print(\"pernyataan ini selalu ditampilkan\")"
      ],
      "metadata": {
        "colab": {
          "base_uri": "https://localhost:8080/"
        },
        "id": "Dj0Y_y-b41fE",
        "outputId": "d08cc0ff-d294-447c-cf09-e7aae101bfed"
      },
      "execution_count": null,
      "outputs": [
        {
          "output_type": "stream",
          "name": "stdout",
          "text": [
            "3 adalah bilangan positif.\n",
            "pernyataan ini selalu ditampilkan.\n",
            "pernyataan ini selalu ditampilkan\n"
          ]
        }
      ]
    },
    {
      "cell_type": "markdown",
      "source": [
        "**python IF ELSE statement**"
      ],
      "metadata": {
        "id": "Q__UH9TR7hJe"
      }
    },
    {
      "cell_type": "code",
      "source": [
        "# Program disusun untuk mengecek apakah angka tersebut kurang dari 0 atau tidak\n",
        "# dan menampilkan tulisan yang sesuai\n",
        "\n",
        "angka = 3\n",
        "\n",
        "if angka >= 0:\n",
        "  print(\"Bilangan lebih dari atau sama dengan 0\")\n",
        "else:\n",
        "  print(\"Bilangan kurang dari 0\")"
      ],
      "metadata": {
        "colab": {
          "base_uri": "https://localhost:8080/"
        },
        "id": "NJqM3XGu43t7",
        "outputId": "eaaa91f5-669e-4bc5-ba8b-222688ecee6b"
      },
      "execution_count": null,
      "outputs": [
        {
          "output_type": "stream",
          "name": "stdout",
          "text": [
            "Bilangan lebih dari atau sama dengan 0\n"
          ]
        }
      ]
    },
    {
      "cell_type": "code",
      "source": [
        "# Program disusun untuk mengecek apakah dua buah angka sama atau tidak\n",
        " # dan menampilkan tulisan yang sesuai\n",
        "\n",
        "a = 5\n",
        "b = 5\n",
        "\n",
        "if a==b:\n",
        "  print(\"a dan b bernilai sama\")\n",
        "else:\n",
        "  print(\"a dan b bernilai berbeda\")\n",
        "  print(\"Belajar If Else\")"
      ],
      "metadata": {
        "colab": {
          "base_uri": "https://localhost:8080/"
        },
        "id": "4xE8kUy5464B",
        "outputId": "3ccfb766-4fa8-44d0-d8c3-b6e3dc7bef92"
      },
      "execution_count": null,
      "outputs": [
        {
          "output_type": "stream",
          "name": "stdout",
          "text": [
            "a dan b bernilai sama\n"
          ]
        }
      ]
    },
    {
      "cell_type": "code",
      "source": [
        "# Program disusun untuk mengecek apakah perbandingan dua buah angka\n",
        "# dan menampilkan tulisan yang sesuai\n",
        "\n",
        "# membaca dua angka\n",
        "bil1 = int(input(\"Masukkan bilangan pertama:\"))\n",
        "bil2 = int(input(\"Masukkan bilangan kedua:\"))\n",
        "\n",
        "# memilih bilangan yang lebih besar\n",
        "if bil1 > bil2:\n",
        "  bil_lebih_besar = bil1\n",
        "else:\n",
        "  bil_lebih_besar = bil2\n",
        "\n",
        "# menampilkan hasil\n",
        "print(\"Bilangan yang lebih besar adalah:\",bil_lebih_besar)"
      ],
      "metadata": {
        "colab": {
          "base_uri": "https://localhost:8080/"
        },
        "id": "NIEMwuRC48m1",
        "outputId": "4b0575ce-41b5-479b-bab7-e11a4735cad8"
      },
      "execution_count": null,
      "outputs": [
        {
          "output_type": "stream",
          "name": "stdout",
          "text": [
            "Masukkan bilangan pertama:3\n",
            "Masukkan bilangan kedua:5\n",
            "Bilangan yang lebih besar adalah: 5\n"
          ]
        }
      ]
    },
    {
      "cell_type": "markdown",
      "source": [
        "**python IF ELIF ELSE statement**"
      ],
      "metadata": {
        "id": "KQeSd3iB7scf"
      }
    },
    {
      "cell_type": "code",
      "source": [
        "# Program disusun untuk mengecek apakah angka merupakan bilangan positif, negatif atau nol\n",
        "# dan menampilkan tulisan yang sesuai\n",
        "\n",
        "angka = 3.4\n",
        "\n",
        "if angka > 0:\n",
        "  print(\"Bilangan Positif\")\n",
        "elif num == 0:\n",
        "  print(\"Nol\")\n",
        "else:\n",
        "  print(\"Bilangan Negatif\")"
      ],
      "metadata": {
        "colab": {
          "base_uri": "https://localhost:8080/"
        },
        "id": "FSbbD5lr4-k_",
        "outputId": "c33e103d-e945-478c-9db4-7e91faf46291"
      },
      "execution_count": null,
      "outputs": [
        {
          "output_type": "stream",
          "name": "stdout",
          "text": [
            "Bilangan Positif\n"
          ]
        }
      ]
    },
    {
      "cell_type": "code",
      "source": [
        "# Statement if\n",
        "x = 4\n",
        "if x % 2 == 0:    #jika x dibagi 2 sisanya samadengan 0\n",
        "  print(\"x habis dibagi dua\")\n",
        "\n",
        "# Statement if...elif...else\n",
        "x = 7\n",
        "if x % 2 == 0: #jika x dibagi 2 sisanya samadengan 0\n",
        "  print(\"x habis dibagi dua\")\n",
        "elif x % 3 == 0: #jika x dibagi 3 sisanya samadengan 0\n",
        "  print(\"x habis dibagi tiga\")\n",
        "elif x % 5 == 0: #jika x dibagi 5 sisanya samadengan 0\n",
        "  print(\"x habis dibagi lima\")\n",
        "else:\n",
        "  print(\"x tidak habis dibagi dua, tiga ataupun lima\")"
      ],
      "metadata": {
        "colab": {
          "base_uri": "https://localhost:8080/"
        },
        "id": "DIioD5V_5GF8",
        "outputId": "95d6830d-3ccb-4c71-fa0c-5859d1555b76"
      },
      "execution_count": null,
      "outputs": [
        {
          "output_type": "stream",
          "name": "stdout",
          "text": [
            "x habis dibagi dua\n",
            "x tidak habis dibagi dua, tiga ataupun lima\n"
          ]
        }
      ]
    },
    {
      "cell_type": "markdown",
      "source": [
        "**python nested IF statement**"
      ],
      "metadata": {
        "id": "pzgCWfF87zVf"
      }
    },
    {
      "cell_type": "code",
      "source": [
        "# Program disusun untuk mengecek apakah angka merupakan bilangn positif, negatif atau nol\n",
        "# dan menampilkan tulisan yang sesuai\n",
        "\n",
        "angka = float(input(\"Masukkan angka:\"))\n",
        "if angka >= 0:\n",
        "  if angka == 0:\n",
        "    print(\"Nol\")\n",
        "  else:\n",
        "    print(\"Bilangan Positif\")\n",
        "else:\n",
        "  print(\"Bilangan Negatif\")"
      ],
      "metadata": {
        "colab": {
          "base_uri": "https://localhost:8080/"
        },
        "id": "h_8S7v_95Ho4",
        "outputId": "49816db2-1dda-494d-e62d-0ced681b76fa"
      },
      "execution_count": null,
      "outputs": [
        {
          "output_type": "stream",
          "name": "stdout",
          "text": [
            "Masukkan angka:4\n",
            "Bilangan Positif\n"
          ]
        }
      ]
    },
    {
      "cell_type": "markdown",
      "source": [
        "**Latihan**"
      ],
      "metadata": {
        "id": "9O4ga59v76mq"
      }
    },
    {
      "cell_type": "markdown",
      "source": [
        "\n",
        "\n",
        "Buatlah sebuah fungsi \"Mahal_Diskon\" dengan ketentuan:\n",
        "*   Input berupa harga produk dengan tipe data numerik tunggal\n",
        "*   Kategori input adalah \"Murah\" dan \"Mahal\", kemudian diskon ada 3 kategori \"10%\", \"20%\", dan \"40%\"\n",
        "*   Output pertama sebuah teks/string yang menyatakan \"Mahal\" atau \"Murah\"dan keterangan \"Kamu dapat DIskon...\"\n",
        "*   Output keduua adalah harga yang perlu dibayarkan\n"
      ],
      "metadata": {
        "id": "O80TWnYP7_VN"
      }
    },
    {
      "cell_type": "code",
      "source": [
        "Harga = float(input(\"harga:\"))\n",
        "\n",
        "if Harga <= 100000:\n",
        "  print(\"Murah\")\n",
        "else:\n",
        "  print(\"Mahal\")\n",
        "\n",
        "print(\"kamu mendapat diskon:\")"
      ],
      "metadata": {
        "colab": {
          "base_uri": "https://localhost:8080/"
        },
        "id": "2S-9L0UR5OAS",
        "outputId": "44847a30-d2dd-4fcb-9aea-b554f5751479"
      },
      "execution_count": null,
      "outputs": [
        {
          "output_type": "stream",
          "name": "stdout",
          "text": [
            "harga:50000\n",
            "Murah\n",
            "kamu mendapat diskon:\n"
          ]
        }
      ]
    },
    {
      "cell_type": "code",
      "source": [
        "harga = float(input(\"harga:\"))\n",
        "\n",
        "if harga < 500000:\n",
        "  print(\"Kamu mendapat diskon 10%\")\n",
        "  print(\"Kamu hanya perlu membayar:\",harga*10/100)\n",
        "elif harga < 800000:\n",
        "  print(\"Kamu mendapat diskon 20%\")\n",
        "  print(\"Kamu hanya perlu membayar:\",harga*20/100)\n",
        "elif harga > 800000:\n",
        "  print(\"Kamu mendapat diskon 30%\")\n",
        "  print(\"Kamu hanya perlu membayar:\",harga*30/100)\n",
        "else:\n",
        "  print(\"Kamu tidak mendapat diskon\")"
      ],
      "metadata": {
        "id": "jnDR4P1n9ofh",
        "outputId": "f4c8bd2c-0427-4af2-bec1-7ab437a224cc",
        "colab": {
          "base_uri": "https://localhost:8080/"
        }
      },
      "execution_count": null,
      "outputs": [
        {
          "output_type": "stream",
          "name": "stdout",
          "text": [
            "harga:50000\n",
            "Kamu mendapat diskon 10%\n",
            "Kamu hanya perlu membayar: 5000.0\n"
          ]
        }
      ]
    }
  ]
}